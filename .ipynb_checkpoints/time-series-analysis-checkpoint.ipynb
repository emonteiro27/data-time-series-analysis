{
 "cells": [
  {
   "cell_type": "code",
   "execution_count": 1,
   "id": "392b23f0",
   "metadata": {},
   "outputs": [],
   "source": [
    "# import the necessary libraries\n",
    "\n",
    "import pandas as pd\n",
    "import numpy as np\n",
    "import matplotlib.pyplot as plt\n",
    "import seaborn as sns"
   ]
  },
  {
   "cell_type": "markdown",
   "id": "77a90110",
   "metadata": {},
   "source": [
    "# Introduction to Time-Series Analysis"
   ]
  },
  {
   "cell_type": "markdown",
   "id": "f2f928ba",
   "metadata": {},
   "source": [
    "- a __time-series__ data is a series of data points or observations recorded at different or regular time intervals. In general, a time series is a sequence of data points taken at equally spaced time intervals. The frequency of recorded data points may be hourly, weekly, monthly, quarterly or annually.\n",
    "\n",
    "\n",
    "- __time-Series Forecasting__ is the process of usin a statistical model to predict future values of a time-series based on past results.\n",
    "\n",
    "\n",
    "- a time series analysis encompasses statistical methods for analyzing time series data. These methods enable us to extract meaningful statistics, patterns and other characteristics of the data. Time series are visualized with the help of line charts. So, time series analysis involves understanding inherent aspects of the time series data so that we can create meaningful and accurate forecasts.\n",
    "\n",
    "\n",
    "- applications of time series are used in statistics, finance or business applications. A very common example of time series data is the daily closing value of the stock index like NASDAQ or Dow Jones. Other common applications of time series are sales and demand forecasting, weather forecasting, econometrics, signal processing, pattern recognition and earthquake prediction."
   ]
  },
  {
   "cell_type": "markdown",
   "id": "860cd4c6",
   "metadata": {},
   "source": [
    "## components of a time-series"
   ]
  },
  {
   "cell_type": "markdown",
   "id": "e9590704",
   "metadata": {},
   "source": [
    "- __Trend__: the trend shows a general direction of the time series data over a long period of time. A trend can be increasing (upward), decreasing (downward), or horizontal (stationary).\n",
    "\n",
    "\n",
    "- __Seasonality__: the seasonality component exhibits a trend that repeats with respect of timing, direction, and magnitude. Some examples include an increase in water consumption in summer due to hot weather conditions.\n",
    "\n",
    "\n",
    "- __Cyclical Component__: these are the trends with no set repetition over a particular period of time. A cycle refers to the period of ups and downs, booms and slums of a time series, mostly observed in business cycles. These cycles do not exhibit a seasonal variation but generally occur over a time period of 3 to 12 years depending on the nature of the time series.\n",
    "\n",
    "\n",
    "- __Irregular Variation__: these are the fluctuations in the time series data which become evident when trend and cyclical variations are removed. These variations are unpredictable, erratic and may or may not be random.\n",
    "\n",
    "\n",
    "- __ETS Decomposition__: it's used to separate different components of a time series. ETS stands for Error, Trend and Seasonality."
   ]
  },
  {
   "cell_type": "markdown",
   "id": "c2da234f",
   "metadata": {},
   "source": [
    "## types of data"
   ]
  },
  {
   "cell_type": "markdown",
   "id": "689b6ff6",
   "metadata": {},
   "source": [
    "As stated above, the time series analysis is the statistical analysis of the time series data. A time series data means that data is recorded at different time periods or intervals. The time series data may be of three types:\n",
    "\n",
    "- __time series data__: the observations of the values of a variable recorded at different points in time is called time series data.\n",
    "\n",
    "\n",
    "- __cross sectional data__: it's the data of one or more variables recorded at the same point in time.\n",
    "\n",
    "\n",
    "- __pooled data__: it's the combination of time series data and cross sectional data."
   ]
  },
  {
   "cell_type": "markdown",
   "id": "8522fec6",
   "metadata": {},
   "source": [
    "## time series terminology"
   ]
  },
  {
   "cell_type": "markdown",
   "id": "b1570c10",
   "metadata": {},
   "source": [
    "- __Dependence__: it refers to the association of two observations of the same variable at prior time periods.\n",
    "\n",
    "\n",
    "- __Stationarity__: it shows the mean value of the series that remains constant over the time period. If past effects accumulate and the value increase towards infinity then stationarity is not met.\n",
    "\n",
    "\n",
    "- __Differencing__: it's used to make the series stationary and to control the auto-correlations. There may be some cases in time series analysis where we do not require differencing and over-differenced series can produce wrong estimates.\n",
    "\n",
    "\n",
    "- __Specification__: it may involve the testing of the linear or non-linear relationships of dependent variables by using time series models such as ARIMA models.\n",
    "\n",
    "\n",
    "- __Exponential Smoothing__: exponential smoothing in time series analysis predicts the one next period value based on the past and current value. It involves averaging of data such that the non-systematic components of each individual case or observation cancel out each other. The exponential smoothing method is used to predict the short term prediction.\n",
    "\n",
    "\n",
    "- __Curve fitting__: curve fitting regression in time series analysis is used when data is in a non-linear relationship.\n",
    "\n",
    "\n",
    "- __ARIMA__: ARIMA stands for Auto Regressive Integrated Moving Average."
   ]
  },
  {
   "cell_type": "code",
   "execution_count": null,
   "id": "af6bd448",
   "metadata": {},
   "outputs": [],
   "source": []
  }
 ],
 "metadata": {
  "kernelspec": {
   "display_name": "Python 3 (ipykernel)",
   "language": "python",
   "name": "python3"
  },
  "language_info": {
   "codemirror_mode": {
    "name": "ipython",
    "version": 3
   },
   "file_extension": ".py",
   "mimetype": "text/x-python",
   "name": "python",
   "nbconvert_exporter": "python",
   "pygments_lexer": "ipython3",
   "version": "3.10.6"
  },
  "toc": {
   "base_numbering": 1,
   "nav_menu": {},
   "number_sections": true,
   "sideBar": true,
   "skip_h1_title": false,
   "title_cell": "Table of Contents",
   "title_sidebar": "Contents",
   "toc_cell": false,
   "toc_position": {},
   "toc_section_display": true,
   "toc_window_display": false
  }
 },
 "nbformat": 4,
 "nbformat_minor": 5
}
